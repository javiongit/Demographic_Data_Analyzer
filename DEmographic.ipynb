{
 "cells": [
  {
   "cell_type": "code",
   "execution_count": 1,
   "id": "c28dc5cf",
   "metadata": {},
   "outputs": [],
   "source": [
    "import pandas as pd\n",
    "import numpy as np"
   ]
  },
  {
   "cell_type": "markdown",
   "id": "f2b64ac1",
   "metadata": {},
   "source": [
    "Importing the data and getting to know it"
   ]
  },
  {
   "cell_type": "code",
   "execution_count": 2,
   "id": "137d2607",
   "metadata": {},
   "outputs": [],
   "source": [
    "df=pd.read_csv('adult.data.csv')"
   ]
  },
  {
   "cell_type": "code",
   "execution_count": 3,
   "id": "4f503555",
   "metadata": {},
   "outputs": [
    {
     "data": {
      "text/html": [
       "<div>\n",
       "<style scoped>\n",
       "    .dataframe tbody tr th:only-of-type {\n",
       "        vertical-align: middle;\n",
       "    }\n",
       "\n",
       "    .dataframe tbody tr th {\n",
       "        vertical-align: top;\n",
       "    }\n",
       "\n",
       "    .dataframe thead th {\n",
       "        text-align: right;\n",
       "    }\n",
       "</style>\n",
       "<table border=\"1\" class=\"dataframe\">\n",
       "  <thead>\n",
       "    <tr style=\"text-align: right;\">\n",
       "      <th></th>\n",
       "      <th>age</th>\n",
       "      <th>fnlwgt</th>\n",
       "      <th>education-num</th>\n",
       "      <th>capital-gain</th>\n",
       "      <th>capital-loss</th>\n",
       "      <th>hours-per-week</th>\n",
       "    </tr>\n",
       "  </thead>\n",
       "  <tbody>\n",
       "    <tr>\n",
       "      <th>count</th>\n",
       "      <td>32561.000000</td>\n",
       "      <td>3.256100e+04</td>\n",
       "      <td>32561.000000</td>\n",
       "      <td>32561.000000</td>\n",
       "      <td>32561.000000</td>\n",
       "      <td>32561.000000</td>\n",
       "    </tr>\n",
       "    <tr>\n",
       "      <th>mean</th>\n",
       "      <td>38.581647</td>\n",
       "      <td>1.897784e+05</td>\n",
       "      <td>10.080679</td>\n",
       "      <td>1077.648844</td>\n",
       "      <td>87.303830</td>\n",
       "      <td>40.437456</td>\n",
       "    </tr>\n",
       "    <tr>\n",
       "      <th>std</th>\n",
       "      <td>13.640433</td>\n",
       "      <td>1.055500e+05</td>\n",
       "      <td>2.572720</td>\n",
       "      <td>7385.292085</td>\n",
       "      <td>402.960219</td>\n",
       "      <td>12.347429</td>\n",
       "    </tr>\n",
       "    <tr>\n",
       "      <th>min</th>\n",
       "      <td>17.000000</td>\n",
       "      <td>1.228500e+04</td>\n",
       "      <td>1.000000</td>\n",
       "      <td>0.000000</td>\n",
       "      <td>0.000000</td>\n",
       "      <td>1.000000</td>\n",
       "    </tr>\n",
       "    <tr>\n",
       "      <th>25%</th>\n",
       "      <td>28.000000</td>\n",
       "      <td>1.178270e+05</td>\n",
       "      <td>9.000000</td>\n",
       "      <td>0.000000</td>\n",
       "      <td>0.000000</td>\n",
       "      <td>40.000000</td>\n",
       "    </tr>\n",
       "    <tr>\n",
       "      <th>50%</th>\n",
       "      <td>37.000000</td>\n",
       "      <td>1.783560e+05</td>\n",
       "      <td>10.000000</td>\n",
       "      <td>0.000000</td>\n",
       "      <td>0.000000</td>\n",
       "      <td>40.000000</td>\n",
       "    </tr>\n",
       "    <tr>\n",
       "      <th>75%</th>\n",
       "      <td>48.000000</td>\n",
       "      <td>2.370510e+05</td>\n",
       "      <td>12.000000</td>\n",
       "      <td>0.000000</td>\n",
       "      <td>0.000000</td>\n",
       "      <td>45.000000</td>\n",
       "    </tr>\n",
       "    <tr>\n",
       "      <th>max</th>\n",
       "      <td>90.000000</td>\n",
       "      <td>1.484705e+06</td>\n",
       "      <td>16.000000</td>\n",
       "      <td>99999.000000</td>\n",
       "      <td>4356.000000</td>\n",
       "      <td>99.000000</td>\n",
       "    </tr>\n",
       "  </tbody>\n",
       "</table>\n",
       "</div>"
      ],
      "text/plain": [
       "                age        fnlwgt  education-num  capital-gain  capital-loss  \\\n",
       "count  32561.000000  3.256100e+04   32561.000000  32561.000000  32561.000000   \n",
       "mean      38.581647  1.897784e+05      10.080679   1077.648844     87.303830   \n",
       "std       13.640433  1.055500e+05       2.572720   7385.292085    402.960219   \n",
       "min       17.000000  1.228500e+04       1.000000      0.000000      0.000000   \n",
       "25%       28.000000  1.178270e+05       9.000000      0.000000      0.000000   \n",
       "50%       37.000000  1.783560e+05      10.000000      0.000000      0.000000   \n",
       "75%       48.000000  2.370510e+05      12.000000      0.000000      0.000000   \n",
       "max       90.000000  1.484705e+06      16.000000  99999.000000   4356.000000   \n",
       "\n",
       "       hours-per-week  \n",
       "count    32561.000000  \n",
       "mean        40.437456  \n",
       "std         12.347429  \n",
       "min          1.000000  \n",
       "25%         40.000000  \n",
       "50%         40.000000  \n",
       "75%         45.000000  \n",
       "max         99.000000  "
      ]
     },
     "execution_count": 3,
     "metadata": {},
     "output_type": "execute_result"
    }
   ],
   "source": [
    "df.describe()"
   ]
  },
  {
   "cell_type": "code",
   "execution_count": 4,
   "id": "dfb5f590",
   "metadata": {},
   "outputs": [
    {
     "data": {
      "text/html": [
       "<div>\n",
       "<style scoped>\n",
       "    .dataframe tbody tr th:only-of-type {\n",
       "        vertical-align: middle;\n",
       "    }\n",
       "\n",
       "    .dataframe tbody tr th {\n",
       "        vertical-align: top;\n",
       "    }\n",
       "\n",
       "    .dataframe thead th {\n",
       "        text-align: right;\n",
       "    }\n",
       "</style>\n",
       "<table border=\"1\" class=\"dataframe\">\n",
       "  <thead>\n",
       "    <tr style=\"text-align: right;\">\n",
       "      <th></th>\n",
       "      <th>age</th>\n",
       "      <th>workclass</th>\n",
       "      <th>fnlwgt</th>\n",
       "      <th>education</th>\n",
       "      <th>education-num</th>\n",
       "      <th>marital-status</th>\n",
       "      <th>occupation</th>\n",
       "      <th>relationship</th>\n",
       "      <th>race</th>\n",
       "      <th>sex</th>\n",
       "      <th>capital-gain</th>\n",
       "      <th>capital-loss</th>\n",
       "      <th>hours-per-week</th>\n",
       "      <th>native-country</th>\n",
       "      <th>salary</th>\n",
       "    </tr>\n",
       "  </thead>\n",
       "  <tbody>\n",
       "    <tr>\n",
       "      <th>0</th>\n",
       "      <td>39</td>\n",
       "      <td>State-gov</td>\n",
       "      <td>77516</td>\n",
       "      <td>Bachelors</td>\n",
       "      <td>13</td>\n",
       "      <td>Never-married</td>\n",
       "      <td>Adm-clerical</td>\n",
       "      <td>Not-in-family</td>\n",
       "      <td>White</td>\n",
       "      <td>Male</td>\n",
       "      <td>2174</td>\n",
       "      <td>0</td>\n",
       "      <td>40</td>\n",
       "      <td>United-States</td>\n",
       "      <td>&lt;=50K</td>\n",
       "    </tr>\n",
       "    <tr>\n",
       "      <th>1</th>\n",
       "      <td>50</td>\n",
       "      <td>Self-emp-not-inc</td>\n",
       "      <td>83311</td>\n",
       "      <td>Bachelors</td>\n",
       "      <td>13</td>\n",
       "      <td>Married-civ-spouse</td>\n",
       "      <td>Exec-managerial</td>\n",
       "      <td>Husband</td>\n",
       "      <td>White</td>\n",
       "      <td>Male</td>\n",
       "      <td>0</td>\n",
       "      <td>0</td>\n",
       "      <td>13</td>\n",
       "      <td>United-States</td>\n",
       "      <td>&lt;=50K</td>\n",
       "    </tr>\n",
       "    <tr>\n",
       "      <th>2</th>\n",
       "      <td>38</td>\n",
       "      <td>Private</td>\n",
       "      <td>215646</td>\n",
       "      <td>HS-grad</td>\n",
       "      <td>9</td>\n",
       "      <td>Divorced</td>\n",
       "      <td>Handlers-cleaners</td>\n",
       "      <td>Not-in-family</td>\n",
       "      <td>White</td>\n",
       "      <td>Male</td>\n",
       "      <td>0</td>\n",
       "      <td>0</td>\n",
       "      <td>40</td>\n",
       "      <td>United-States</td>\n",
       "      <td>&lt;=50K</td>\n",
       "    </tr>\n",
       "    <tr>\n",
       "      <th>3</th>\n",
       "      <td>53</td>\n",
       "      <td>Private</td>\n",
       "      <td>234721</td>\n",
       "      <td>11th</td>\n",
       "      <td>7</td>\n",
       "      <td>Married-civ-spouse</td>\n",
       "      <td>Handlers-cleaners</td>\n",
       "      <td>Husband</td>\n",
       "      <td>Black</td>\n",
       "      <td>Male</td>\n",
       "      <td>0</td>\n",
       "      <td>0</td>\n",
       "      <td>40</td>\n",
       "      <td>United-States</td>\n",
       "      <td>&lt;=50K</td>\n",
       "    </tr>\n",
       "    <tr>\n",
       "      <th>4</th>\n",
       "      <td>28</td>\n",
       "      <td>Private</td>\n",
       "      <td>338409</td>\n",
       "      <td>Bachelors</td>\n",
       "      <td>13</td>\n",
       "      <td>Married-civ-spouse</td>\n",
       "      <td>Prof-specialty</td>\n",
       "      <td>Wife</td>\n",
       "      <td>Black</td>\n",
       "      <td>Female</td>\n",
       "      <td>0</td>\n",
       "      <td>0</td>\n",
       "      <td>40</td>\n",
       "      <td>Cuba</td>\n",
       "      <td>&lt;=50K</td>\n",
       "    </tr>\n",
       "  </tbody>\n",
       "</table>\n",
       "</div>"
      ],
      "text/plain": [
       "   age         workclass  fnlwgt  education  education-num  \\\n",
       "0   39         State-gov   77516  Bachelors             13   \n",
       "1   50  Self-emp-not-inc   83311  Bachelors             13   \n",
       "2   38           Private  215646    HS-grad              9   \n",
       "3   53           Private  234721       11th              7   \n",
       "4   28           Private  338409  Bachelors             13   \n",
       "\n",
       "       marital-status         occupation   relationship   race     sex  \\\n",
       "0       Never-married       Adm-clerical  Not-in-family  White    Male   \n",
       "1  Married-civ-spouse    Exec-managerial        Husband  White    Male   \n",
       "2            Divorced  Handlers-cleaners  Not-in-family  White    Male   \n",
       "3  Married-civ-spouse  Handlers-cleaners        Husband  Black    Male   \n",
       "4  Married-civ-spouse     Prof-specialty           Wife  Black  Female   \n",
       "\n",
       "   capital-gain  capital-loss  hours-per-week native-country salary  \n",
       "0          2174             0              40  United-States  <=50K  \n",
       "1             0             0              13  United-States  <=50K  \n",
       "2             0             0              40  United-States  <=50K  \n",
       "3             0             0              40  United-States  <=50K  \n",
       "4             0             0              40           Cuba  <=50K  "
      ]
     },
     "execution_count": 4,
     "metadata": {},
     "output_type": "execute_result"
    }
   ],
   "source": [
    "df.head()"
   ]
  },
  {
   "cell_type": "markdown",
   "id": "ff15fc1c",
   "metadata": {},
   "source": [
    "* How many people of each race are represented in this dataset? This should be a Pandas series with race names as the index labels. (race column)"
   ]
  },
  {
   "cell_type": "code",
   "execution_count": 16,
   "id": "73268384",
   "metadata": {},
   "outputs": [
    {
     "data": {
      "text/html": [
       "<div>\n",
       "<style scoped>\n",
       "    .dataframe tbody tr th:only-of-type {\n",
       "        vertical-align: middle;\n",
       "    }\n",
       "\n",
       "    .dataframe tbody tr th {\n",
       "        vertical-align: top;\n",
       "    }\n",
       "\n",
       "    .dataframe thead th {\n",
       "        text-align: right;\n",
       "    }\n",
       "</style>\n",
       "<table border=\"1\" class=\"dataframe\">\n",
       "  <thead>\n",
       "    <tr style=\"text-align: right;\">\n",
       "      <th></th>\n",
       "      <th>age</th>\n",
       "      <th>workclass</th>\n",
       "      <th>fnlwgt</th>\n",
       "      <th>education</th>\n",
       "      <th>education-num</th>\n",
       "      <th>marital-status</th>\n",
       "      <th>occupation</th>\n",
       "      <th>relationship</th>\n",
       "      <th>sex</th>\n",
       "      <th>capital-gain</th>\n",
       "      <th>capital-loss</th>\n",
       "      <th>hours-per-week</th>\n",
       "      <th>native-country</th>\n",
       "      <th>salary</th>\n",
       "    </tr>\n",
       "    <tr>\n",
       "      <th>race</th>\n",
       "      <th></th>\n",
       "      <th></th>\n",
       "      <th></th>\n",
       "      <th></th>\n",
       "      <th></th>\n",
       "      <th></th>\n",
       "      <th></th>\n",
       "      <th></th>\n",
       "      <th></th>\n",
       "      <th></th>\n",
       "      <th></th>\n",
       "      <th></th>\n",
       "      <th></th>\n",
       "      <th></th>\n",
       "    </tr>\n",
       "  </thead>\n",
       "  <tbody>\n",
       "    <tr>\n",
       "      <th>Amer-Indian-Eskimo</th>\n",
       "      <td>311</td>\n",
       "      <td>311</td>\n",
       "      <td>311</td>\n",
       "      <td>311</td>\n",
       "      <td>311</td>\n",
       "      <td>311</td>\n",
       "      <td>311</td>\n",
       "      <td>311</td>\n",
       "      <td>311</td>\n",
       "      <td>311</td>\n",
       "      <td>311</td>\n",
       "      <td>311</td>\n",
       "      <td>311</td>\n",
       "      <td>311</td>\n",
       "    </tr>\n",
       "    <tr>\n",
       "      <th>Asian-Pac-Islander</th>\n",
       "      <td>1039</td>\n",
       "      <td>1039</td>\n",
       "      <td>1039</td>\n",
       "      <td>1039</td>\n",
       "      <td>1039</td>\n",
       "      <td>1039</td>\n",
       "      <td>1039</td>\n",
       "      <td>1039</td>\n",
       "      <td>1039</td>\n",
       "      <td>1039</td>\n",
       "      <td>1039</td>\n",
       "      <td>1039</td>\n",
       "      <td>1039</td>\n",
       "      <td>1039</td>\n",
       "    </tr>\n",
       "    <tr>\n",
       "      <th>Black</th>\n",
       "      <td>3124</td>\n",
       "      <td>3124</td>\n",
       "      <td>3124</td>\n",
       "      <td>3124</td>\n",
       "      <td>3124</td>\n",
       "      <td>3124</td>\n",
       "      <td>3124</td>\n",
       "      <td>3124</td>\n",
       "      <td>3124</td>\n",
       "      <td>3124</td>\n",
       "      <td>3124</td>\n",
       "      <td>3124</td>\n",
       "      <td>3124</td>\n",
       "      <td>3124</td>\n",
       "    </tr>\n",
       "    <tr>\n",
       "      <th>Other</th>\n",
       "      <td>271</td>\n",
       "      <td>271</td>\n",
       "      <td>271</td>\n",
       "      <td>271</td>\n",
       "      <td>271</td>\n",
       "      <td>271</td>\n",
       "      <td>271</td>\n",
       "      <td>271</td>\n",
       "      <td>271</td>\n",
       "      <td>271</td>\n",
       "      <td>271</td>\n",
       "      <td>271</td>\n",
       "      <td>271</td>\n",
       "      <td>271</td>\n",
       "    </tr>\n",
       "    <tr>\n",
       "      <th>White</th>\n",
       "      <td>27816</td>\n",
       "      <td>27816</td>\n",
       "      <td>27816</td>\n",
       "      <td>27816</td>\n",
       "      <td>27816</td>\n",
       "      <td>27816</td>\n",
       "      <td>27816</td>\n",
       "      <td>27816</td>\n",
       "      <td>27816</td>\n",
       "      <td>27816</td>\n",
       "      <td>27816</td>\n",
       "      <td>27816</td>\n",
       "      <td>27816</td>\n",
       "      <td>27816</td>\n",
       "    </tr>\n",
       "  </tbody>\n",
       "</table>\n",
       "</div>"
      ],
      "text/plain": [
       "                      age  workclass  fnlwgt  education  education-num  \\\n",
       "race                                                                     \n",
       "Amer-Indian-Eskimo    311        311     311        311            311   \n",
       "Asian-Pac-Islander   1039       1039    1039       1039           1039   \n",
       "Black                3124       3124    3124       3124           3124   \n",
       "Other                 271        271     271        271            271   \n",
       "White               27816      27816   27816      27816          27816   \n",
       "\n",
       "                    marital-status  occupation  relationship    sex  \\\n",
       "race                                                                  \n",
       "Amer-Indian-Eskimo             311         311           311    311   \n",
       "Asian-Pac-Islander            1039        1039          1039   1039   \n",
       "Black                         3124        3124          3124   3124   \n",
       "Other                          271         271           271    271   \n",
       "White                        27816       27816         27816  27816   \n",
       "\n",
       "                    capital-gain  capital-loss  hours-per-week  \\\n",
       "race                                                             \n",
       "Amer-Indian-Eskimo           311           311             311   \n",
       "Asian-Pac-Islander          1039          1039            1039   \n",
       "Black                       3124          3124            3124   \n",
       "Other                        271           271             271   \n",
       "White                      27816         27816           27816   \n",
       "\n",
       "                    native-country  salary  \n",
       "race                                        \n",
       "Amer-Indian-Eskimo             311     311  \n",
       "Asian-Pac-Islander            1039    1039  \n",
       "Black                         3124    3124  \n",
       "Other                          271     271  \n",
       "White                        27816   27816  "
      ]
     },
     "execution_count": 16,
     "metadata": {},
     "output_type": "execute_result"
    }
   ],
   "source": [
    "race=df.groupby(['race']).count()\n",
    "race"
   ]
  },
  {
   "cell_type": "code",
   "execution_count": 18,
   "id": "843118c4",
   "metadata": {},
   "outputs": [],
   "source": [
    "race_count=pd.Series(data=[27816,3124,1039,311,271],index =['White', 'Black', 'Asian-Pac-Islander', 'Amer-Indian-Eskimo', 'Other'])"
   ]
  },
  {
   "cell_type": "code",
   "execution_count": 20,
   "id": "d8ce2ae7",
   "metadata": {},
   "outputs": [
    {
     "data": {
      "text/plain": [
       "White                 27816\n",
       "Black                  3124\n",
       "Asian-Pac-Islander     1039\n",
       "Amer-Indian-Eskimo      311\n",
       "Other                   271\n",
       "dtype: int64"
      ]
     },
     "execution_count": 20,
     "metadata": {},
     "output_type": "execute_result"
    }
   ],
   "source": [
    "race_count"
   ]
  },
  {
   "cell_type": "markdown",
   "id": "d0eb120b",
   "metadata": {},
   "source": [
    "#### A better way to do this first task is:"
   ]
  },
  {
   "cell_type": "code",
   "execution_count": 22,
   "id": "af1aebaf",
   "metadata": {},
   "outputs": [
    {
     "data": {
      "text/plain": [
       "White                 27816\n",
       "Black                  3124\n",
       "Asian-Pac-Islander     1039\n",
       "Amer-Indian-Eskimo      311\n",
       "Other                   271\n",
       "Name: race, dtype: int64"
      ]
     },
     "execution_count": 22,
     "metadata": {},
     "output_type": "execute_result"
    }
   ],
   "source": [
    "df['race'].value_counts()"
   ]
  },
  {
   "cell_type": "markdown",
   "id": "19ee8fb0",
   "metadata": {},
   "source": [
    "* What is the average age of men?"
   ]
  },
  {
   "cell_type": "code",
   "execution_count": 24,
   "id": "e52db17c",
   "metadata": {},
   "outputs": [
    {
     "data": {
      "text/plain": [
       "39.43354749885268"
      ]
     },
     "execution_count": 24,
     "metadata": {},
     "output_type": "execute_result"
    }
   ],
   "source": [
    "a=df.loc[df['sex'] == 'Male']\n",
    "a['age'].mean()"
   ]
  },
  {
   "cell_type": "markdown",
   "id": "f480e7ed",
   "metadata": {},
   "source": [
    "#### A better way to do it ( as they also ask to round the number ):"
   ]
  },
  {
   "cell_type": "code",
   "execution_count": 23,
   "id": "2fd67d07",
   "metadata": {},
   "outputs": [
    {
     "data": {
      "text/plain": [
       "39.4"
      ]
     },
     "execution_count": 23,
     "metadata": {},
     "output_type": "execute_result"
    }
   ],
   "source": [
    "round(df[df['sex'] == 'Male']['age'].mean(),1)"
   ]
  },
  {
   "cell_type": "markdown",
   "id": "82b51163",
   "metadata": {},
   "source": [
    "* What is the percentage of people who have a Bachelor's degree?"
   ]
  },
  {
   "cell_type": "code",
   "execution_count": 26,
   "id": "c68c7118",
   "metadata": {},
   "outputs": [
    {
     "data": {
      "text/plain": [
       "age               7491\n",
       "workclass         7491\n",
       "fnlwgt            7491\n",
       "education         7491\n",
       "education-num     7491\n",
       "marital-status    7491\n",
       "occupation        7491\n",
       "relationship      7491\n",
       "race              7491\n",
       "sex               7491\n",
       "capital-gain      7491\n",
       "capital-loss      7491\n",
       "hours-per-week    7491\n",
       "native-country    7491\n",
       "salary            7491\n",
       "dtype: int64"
      ]
     },
     "execution_count": 26,
     "metadata": {},
     "output_type": "execute_result"
    }
   ],
   "source": [
    "df_highereducation=df[(df['education']=='Bachelors')|(df['education']=='Masters')|(df['education']=='Doctorate')]\n",
    "df_highereducation.count()"
   ]
  },
  {
   "cell_type": "code",
   "execution_count": 27,
   "id": "bcf0f3c1",
   "metadata": {},
   "outputs": [
    {
     "data": {
      "text/plain": [
       "age               32561\n",
       "workclass         32561\n",
       "fnlwgt            32561\n",
       "education         32561\n",
       "education-num     32561\n",
       "marital-status    32561\n",
       "occupation        32561\n",
       "relationship      32561\n",
       "race              32561\n",
       "sex               32561\n",
       "capital-gain      32561\n",
       "capital-loss      32561\n",
       "hours-per-week    32561\n",
       "native-country    32561\n",
       "salary            32561\n",
       "dtype: int64"
      ]
     },
     "execution_count": 27,
     "metadata": {},
     "output_type": "execute_result"
    }
   ],
   "source": [
    "df.count()"
   ]
  },
  {
   "cell_type": "code",
   "execution_count": 32,
   "id": "df852eea",
   "metadata": {},
   "outputs": [
    {
     "data": {
      "text/plain": [
       "0.16446055096587942"
      ]
     },
     "execution_count": 32,
     "metadata": {},
     "output_type": "execute_result"
    }
   ],
   "source": [
    "#My solution:\n",
    "7491/32561\n",
    "\n",
    "#Then it resulted to be only Bachelor so:\n",
    "(df[df['education']=='Bachelors'].count())/32561\n",
    "\n",
    "#A much better solution:\n",
    "#What is done here is to pass a condition in Pandas that returns Trues when is confirmed. Then asking for the mean\n",
    "#it does the division of the True values by the Total\n",
    "(df[\"education\"] == \"Bachelors\").mean()"
   ]
  },
  {
   "cell_type": "markdown",
   "id": "999517e4",
   "metadata": {},
   "source": [
    "* What percentage of people with advanced education (`Bachelors`, `Masters`, or `Doctorate`) make more than 50K?\n",
    "    \n",
    "* What percentage of people without advanced education make more than 50K?"
   ]
  },
  {
   "cell_type": "code",
   "execution_count": null,
   "id": "5cc0804c",
   "metadata": {},
   "outputs": [],
   "source": [
    "df_lowereducation=df[(df['education']=='HS-grad')|(df['education']=='Some-college')|(df['education']=='Assoc-voc')|(df['education']=='11th')|(df['education']=='Assoc-acdm')|(df['education']=='10th')|(df['education']=='7th-8th')|(df['education']=='Prof-school')|(df['education']=='9th')|(df['education']=='12th')|(df['education']=='5th-6th')|(df['education']=='1st-4th')|(df['education']=='Preschool')]\n",
    "df_lowereducation.count()"
   ]
  },
  {
   "cell_type": "markdown",
   "id": "38eb7828",
   "metadata": {},
   "source": [
    "#### A better way of establishing this education data frames would have been:"
   ]
  },
  {
   "cell_type": "code",
   "execution_count": null,
   "id": "e6b8afb7",
   "metadata": {},
   "outputs": [],
   "source": [
    "higheducation=df[df['education'].isin(['Bachelors','Masters','Doctorate'])]\n",
    "loweducation=df[~df['education'].isin(['Bachelors','Masters','Doctorate'])]"
   ]
  },
  {
   "cell_type": "markdown",
   "id": "e89e3e6b",
   "metadata": {},
   "source": [
    "### Calculating the percentaje of the higher education"
   ]
  },
  {
   "cell_type": "code",
   "execution_count": 41,
   "id": "0dac24fd",
   "metadata": {},
   "outputs": [
    {
     "data": {
      "text/plain": [
       "age               3486\n",
       "workclass         3486\n",
       "fnlwgt            3486\n",
       "education         3486\n",
       "education-num     3486\n",
       "marital-status    3486\n",
       "occupation        3486\n",
       "relationship      3486\n",
       "race              3486\n",
       "sex               3486\n",
       "capital-gain      3486\n",
       "capital-loss      3486\n",
       "hours-per-week    3486\n",
       "native-country    3486\n",
       "salary            3486\n",
       "dtype: int64"
      ]
     },
     "execution_count": 41,
     "metadata": {},
     "output_type": "execute_result"
    }
   ],
   "source": [
    "df_highereducation[df_highereducation['salary']=='>50K'].count()"
   ]
  },
  {
   "cell_type": "code",
   "execution_count": 40,
   "id": "b6bba3d1",
   "metadata": {},
   "outputs": [
    {
     "data": {
      "text/plain": [
       "0.46535843011613937"
      ]
     },
     "execution_count": 40,
     "metadata": {},
     "output_type": "execute_result"
    }
   ],
   "source": [
    "#My solution:\n",
    "3486/7491"
   ]
  },
  {
   "cell_type": "markdown",
   "id": "3ecef487",
   "metadata": {},
   "source": [
    "### Calculating the percentaje of the lower education"
   ]
  },
  {
   "cell_type": "code",
   "execution_count": 42,
   "id": "dd36feb2",
   "metadata": {},
   "outputs": [
    {
     "data": {
      "text/plain": [
       "age               25070\n",
       "workclass         25070\n",
       "fnlwgt            25070\n",
       "education         25070\n",
       "education-num     25070\n",
       "marital-status    25070\n",
       "occupation        25070\n",
       "relationship      25070\n",
       "race              25070\n",
       "sex               25070\n",
       "capital-gain      25070\n",
       "capital-loss      25070\n",
       "hours-per-week    25070\n",
       "native-country    25070\n",
       "salary            25070\n",
       "dtype: int64"
      ]
     },
     "execution_count": 42,
     "metadata": {},
     "output_type": "execute_result"
    }
   ],
   "source": [
    "df_lowereducation=df[(df['education']=='HS-grad')|(df['education']=='Some-college')|(df['education']=='Assoc-voc')|(df['education']=='11th')|(df['education']=='Assoc-acdm')|(df['education']=='10th')|(df['education']=='7th-8th')|(df['education']=='Prof-school')|(df['education']=='9th')|(df['education']=='12th')|(df['education']=='5th-6th')|(df['education']=='1st-4th')|(df['education']=='Preschool')]\n",
    "df_lowereducation.count()"
   ]
  },
  {
   "cell_type": "code",
   "execution_count": 43,
   "id": "f421564a",
   "metadata": {},
   "outputs": [
    {
     "data": {
      "text/plain": [
       "age               4355\n",
       "workclass         4355\n",
       "fnlwgt            4355\n",
       "education         4355\n",
       "education-num     4355\n",
       "marital-status    4355\n",
       "occupation        4355\n",
       "relationship      4355\n",
       "race              4355\n",
       "sex               4355\n",
       "capital-gain      4355\n",
       "capital-loss      4355\n",
       "hours-per-week    4355\n",
       "native-country    4355\n",
       "salary            4355\n",
       "dtype: int64"
      ]
     },
     "execution_count": 43,
     "metadata": {},
     "output_type": "execute_result"
    }
   ],
   "source": [
    "df_lowereducation[df_lowereducation['salary']=='>50K'].count()"
   ]
  },
  {
   "cell_type": "code",
   "execution_count": 44,
   "id": "69170f0e",
   "metadata": {},
   "outputs": [
    {
     "data": {
      "text/plain": [
       "0.173713601914639"
      ]
     },
     "execution_count": 44,
     "metadata": {},
     "output_type": "execute_result"
    }
   ],
   "source": [
    "#My solution\n",
    "4355/25070"
   ]
  },
  {
   "cell_type": "markdown",
   "id": "d1d5b314",
   "metadata": {},
   "source": [
    "* What is the minimum number of hours a person works per week (hours-per-week feature)?"
   ]
  },
  {
   "cell_type": "code",
   "execution_count": 48,
   "id": "7ffe2650",
   "metadata": {},
   "outputs": [
    {
     "data": {
      "text/plain": [
       "1"
      ]
     },
     "execution_count": 48,
     "metadata": {},
     "output_type": "execute_result"
    }
   ],
   "source": [
    "df['hours-per-week'].min()"
   ]
  },
  {
   "cell_type": "markdown",
   "id": "c6a0c246",
   "metadata": {},
   "source": [
    " * What percentage of the people who work the minimum number of hours per week have a salary of >50K?"
   ]
  },
  {
   "cell_type": "code",
   "execution_count": 45,
   "id": "d99d3292",
   "metadata": {},
   "outputs": [
    {
     "data": {
      "text/plain": [
       "age               20\n",
       "workclass         20\n",
       "fnlwgt            20\n",
       "education         20\n",
       "education-num     20\n",
       "marital-status    20\n",
       "occupation        20\n",
       "relationship      20\n",
       "race              20\n",
       "sex               20\n",
       "capital-gain      20\n",
       "capital-loss      20\n",
       "hours-per-week    20\n",
       "native-country    20\n",
       "salary            20\n",
       "dtype: int64"
      ]
     },
     "execution_count": 45,
     "metadata": {},
     "output_type": "execute_result"
    }
   ],
   "source": [
    "onehour=df.loc[df['hours-per-week']==1]\n",
    "onehour.count()"
   ]
  },
  {
   "cell_type": "code",
   "execution_count": 46,
   "id": "3344ed72",
   "metadata": {},
   "outputs": [
    {
     "data": {
      "text/plain": [
       "age               2\n",
       "workclass         2\n",
       "fnlwgt            2\n",
       "education         2\n",
       "education-num     2\n",
       "marital-status    2\n",
       "occupation        2\n",
       "relationship      2\n",
       "race              2\n",
       "sex               2\n",
       "capital-gain      2\n",
       "capital-loss      2\n",
       "hours-per-week    2\n",
       "native-country    2\n",
       "salary            2\n",
       "dtype: int64"
      ]
     },
     "execution_count": 46,
     "metadata": {},
     "output_type": "execute_result"
    }
   ],
   "source": [
    "onehour.loc[onehour['salary']=='>50K'].count()"
   ]
  },
  {
   "cell_type": "code",
   "execution_count": 52,
   "id": "dbc229eb",
   "metadata": {},
   "outputs": [
    {
     "data": {
      "text/plain": [
       "20"
      ]
     },
     "execution_count": 52,
     "metadata": {},
     "output_type": "execute_result"
    }
   ],
   "source": [
    "#Solution \n",
    "2/20\n"
   ]
  },
  {
   "cell_type": "markdown",
   "id": "7c8f2dc9",
   "metadata": {},
   "source": [
    "* What country has the highest percentage of people that earn >50K?"
   ]
  },
  {
   "cell_type": "code",
   "execution_count": 5,
   "id": "49a19721",
   "metadata": {},
   "outputs": [],
   "source": [
    "highsalary=df[df['salary']=='>50K']"
   ]
  },
  {
   "cell_type": "code",
   "execution_count": 6,
   "id": "09465c86",
   "metadata": {},
   "outputs": [],
   "source": [
    "division_bycountry=df.groupby(['native-country']).count()"
   ]
  },
  {
   "cell_type": "code",
   "execution_count": 60,
   "id": "a97cdc78",
   "metadata": {},
   "outputs": [
    {
     "data": {
      "text/plain": [
       "age               Iran\n",
       "workclass         Iran\n",
       "fnlwgt            Iran\n",
       "education         Iran\n",
       "education-num     Iran\n",
       "marital-status    Iran\n",
       "occupation        Iran\n",
       "relationship      Iran\n",
       "race              Iran\n",
       "sex               Iran\n",
       "capital-gain      Iran\n",
       "capital-loss      Iran\n",
       "hours-per-week    Iran\n",
       "salary            Iran\n",
       "dtype: object"
      ]
     },
     "execution_count": 60,
     "metadata": {},
     "output_type": "execute_result"
    }
   ],
   "source": [
    "percentages=highsalary.groupby(['native-country']).count()/division_bycountry\n",
    "#To know that Iran is the country that we get as a result\n",
    "percentages.idxmax()\n"
   ]
  },
  {
   "cell_type": "code",
   "execution_count": 61,
   "id": "647317bd",
   "metadata": {},
   "outputs": [
    {
     "data": {
      "text/plain": [
       "age               0.418605\n",
       "workclass         0.418605\n",
       "fnlwgt            0.418605\n",
       "education         0.418605\n",
       "education-num     0.418605\n",
       "marital-status    0.418605\n",
       "occupation        0.418605\n",
       "relationship      0.418605\n",
       "race              0.418605\n",
       "sex               0.418605\n",
       "capital-gain      0.418605\n",
       "capital-loss      0.418605\n",
       "hours-per-week    0.418605\n",
       "salary            0.418605\n",
       "dtype: float64"
      ]
     },
     "execution_count": 61,
     "metadata": {},
     "output_type": "execute_result"
    }
   ],
   "source": [
    "#To know the percentage of high salary peope in Iran\n",
    "percentages.max()"
   ]
  },
  {
   "cell_type": "code",
   "execution_count": 53,
   "id": "90688211",
   "metadata": {},
   "outputs": [
    {
     "data": {
      "text/plain": [
       "Prof-specialty       4140\n",
       "Craft-repair         4099\n",
       "Exec-managerial      4066\n",
       "Adm-clerical         3770\n",
       "Sales                3650\n",
       "Other-service        3295\n",
       "Machine-op-inspct    2002\n",
       "?                    1843\n",
       "Transport-moving     1597\n",
       "Handlers-cleaners    1370\n",
       "Farming-fishing       994\n",
       "Tech-support          928\n",
       "Protective-serv       649\n",
       "Priv-house-serv       149\n",
       "Armed-Forces            9\n",
       "Name: occupation, dtype: int64"
      ]
     },
     "execution_count": 53,
     "metadata": {},
     "output_type": "execute_result"
    }
   ],
   "source": [
    "df['occupation'].value_counts()"
   ]
  },
  {
   "cell_type": "code",
   "execution_count": 54,
   "id": "6f1b2989",
   "metadata": {},
   "outputs": [
    {
     "data": {
      "text/html": [
       "<div>\n",
       "<style scoped>\n",
       "    .dataframe tbody tr th:only-of-type {\n",
       "        vertical-align: middle;\n",
       "    }\n",
       "\n",
       "    .dataframe tbody tr th {\n",
       "        vertical-align: top;\n",
       "    }\n",
       "\n",
       "    .dataframe thead th {\n",
       "        text-align: right;\n",
       "    }\n",
       "</style>\n",
       "<table border=\"1\" class=\"dataframe\">\n",
       "  <thead>\n",
       "    <tr style=\"text-align: right;\">\n",
       "      <th></th>\n",
       "      <th>age</th>\n",
       "      <th>workclass</th>\n",
       "      <th>fnlwgt</th>\n",
       "      <th>education</th>\n",
       "      <th>education-num</th>\n",
       "      <th>marital-status</th>\n",
       "      <th>relationship</th>\n",
       "      <th>race</th>\n",
       "      <th>sex</th>\n",
       "      <th>capital-gain</th>\n",
       "      <th>capital-loss</th>\n",
       "      <th>hours-per-week</th>\n",
       "      <th>native-country</th>\n",
       "      <th>salary</th>\n",
       "    </tr>\n",
       "    <tr>\n",
       "      <th>occupation</th>\n",
       "      <th></th>\n",
       "      <th></th>\n",
       "      <th></th>\n",
       "      <th></th>\n",
       "      <th></th>\n",
       "      <th></th>\n",
       "      <th></th>\n",
       "      <th></th>\n",
       "      <th></th>\n",
       "      <th></th>\n",
       "      <th></th>\n",
       "      <th></th>\n",
       "      <th></th>\n",
       "      <th></th>\n",
       "    </tr>\n",
       "  </thead>\n",
       "  <tbody>\n",
       "    <tr>\n",
       "      <th>Adm-clerical</th>\n",
       "      <td>1</td>\n",
       "      <td>1</td>\n",
       "      <td>1</td>\n",
       "      <td>1</td>\n",
       "      <td>1</td>\n",
       "      <td>1</td>\n",
       "      <td>1</td>\n",
       "      <td>1</td>\n",
       "      <td>1</td>\n",
       "      <td>1</td>\n",
       "      <td>1</td>\n",
       "      <td>1</td>\n",
       "      <td>1</td>\n",
       "      <td>1</td>\n",
       "    </tr>\n",
       "    <tr>\n",
       "      <th>Exec-managerial</th>\n",
       "      <td>8</td>\n",
       "      <td>8</td>\n",
       "      <td>8</td>\n",
       "      <td>8</td>\n",
       "      <td>8</td>\n",
       "      <td>8</td>\n",
       "      <td>8</td>\n",
       "      <td>8</td>\n",
       "      <td>8</td>\n",
       "      <td>8</td>\n",
       "      <td>8</td>\n",
       "      <td>8</td>\n",
       "      <td>8</td>\n",
       "      <td>8</td>\n",
       "    </tr>\n",
       "    <tr>\n",
       "      <th>Other-service</th>\n",
       "      <td>2</td>\n",
       "      <td>2</td>\n",
       "      <td>2</td>\n",
       "      <td>2</td>\n",
       "      <td>2</td>\n",
       "      <td>2</td>\n",
       "      <td>2</td>\n",
       "      <td>2</td>\n",
       "      <td>2</td>\n",
       "      <td>2</td>\n",
       "      <td>2</td>\n",
       "      <td>2</td>\n",
       "      <td>2</td>\n",
       "      <td>2</td>\n",
       "    </tr>\n",
       "    <tr>\n",
       "      <th>Prof-specialty</th>\n",
       "      <td>25</td>\n",
       "      <td>25</td>\n",
       "      <td>25</td>\n",
       "      <td>25</td>\n",
       "      <td>25</td>\n",
       "      <td>25</td>\n",
       "      <td>25</td>\n",
       "      <td>25</td>\n",
       "      <td>25</td>\n",
       "      <td>25</td>\n",
       "      <td>25</td>\n",
       "      <td>25</td>\n",
       "      <td>25</td>\n",
       "      <td>25</td>\n",
       "    </tr>\n",
       "    <tr>\n",
       "      <th>Sales</th>\n",
       "      <td>1</td>\n",
       "      <td>1</td>\n",
       "      <td>1</td>\n",
       "      <td>1</td>\n",
       "      <td>1</td>\n",
       "      <td>1</td>\n",
       "      <td>1</td>\n",
       "      <td>1</td>\n",
       "      <td>1</td>\n",
       "      <td>1</td>\n",
       "      <td>1</td>\n",
       "      <td>1</td>\n",
       "      <td>1</td>\n",
       "      <td>1</td>\n",
       "    </tr>\n",
       "    <tr>\n",
       "      <th>Tech-support</th>\n",
       "      <td>2</td>\n",
       "      <td>2</td>\n",
       "      <td>2</td>\n",
       "      <td>2</td>\n",
       "      <td>2</td>\n",
       "      <td>2</td>\n",
       "      <td>2</td>\n",
       "      <td>2</td>\n",
       "      <td>2</td>\n",
       "      <td>2</td>\n",
       "      <td>2</td>\n",
       "      <td>2</td>\n",
       "      <td>2</td>\n",
       "      <td>2</td>\n",
       "    </tr>\n",
       "    <tr>\n",
       "      <th>Transport-moving</th>\n",
       "      <td>1</td>\n",
       "      <td>1</td>\n",
       "      <td>1</td>\n",
       "      <td>1</td>\n",
       "      <td>1</td>\n",
       "      <td>1</td>\n",
       "      <td>1</td>\n",
       "      <td>1</td>\n",
       "      <td>1</td>\n",
       "      <td>1</td>\n",
       "      <td>1</td>\n",
       "      <td>1</td>\n",
       "      <td>1</td>\n",
       "      <td>1</td>\n",
       "    </tr>\n",
       "  </tbody>\n",
       "</table>\n",
       "</div>"
      ],
      "text/plain": [
       "                  age  workclass  fnlwgt  education  education-num  \\\n",
       "occupation                                                           \n",
       "Adm-clerical        1          1       1          1              1   \n",
       "Exec-managerial     8          8       8          8              8   \n",
       "Other-service       2          2       2          2              2   \n",
       "Prof-specialty     25         25      25         25             25   \n",
       "Sales               1          1       1          1              1   \n",
       "Tech-support        2          2       2          2              2   \n",
       "Transport-moving    1          1       1          1              1   \n",
       "\n",
       "                  marital-status  relationship  race  sex  capital-gain  \\\n",
       "occupation                                                                \n",
       "Adm-clerical                   1             1     1    1             1   \n",
       "Exec-managerial                8             8     8    8             8   \n",
       "Other-service                  2             2     2    2             2   \n",
       "Prof-specialty                25            25    25   25            25   \n",
       "Sales                          1             1     1    1             1   \n",
       "Tech-support                   2             2     2    2             2   \n",
       "Transport-moving               1             1     1    1             1   \n",
       "\n",
       "                  capital-loss  hours-per-week  native-country  salary  \n",
       "occupation                                                              \n",
       "Adm-clerical                 1               1               1       1  \n",
       "Exec-managerial              8               8               8       8  \n",
       "Other-service                2               2               2       2  \n",
       "Prof-specialty              25              25              25      25  \n",
       "Sales                        1               1               1       1  \n",
       "Tech-support                 2               2               2       2  \n",
       "Transport-moving             1               1               1       1  "
      ]
     },
     "execution_count": 54,
     "metadata": {},
     "output_type": "execute_result"
    }
   ],
   "source": [
    "highsalary.loc[highsalary['native-country']=='India'].groupby(['occupation']).count()"
   ]
  },
  {
   "cell_type": "code",
   "execution_count": 57,
   "id": "81c510dc",
   "metadata": {},
   "outputs": [
    {
     "data": {
      "text/plain": [
       "25"
      ]
     },
     "execution_count": 57,
     "metadata": {},
     "output_type": "execute_result"
    }
   ],
   "source": [
    "#Answer looking at table\n",
    "25"
   ]
  },
  {
   "cell_type": "markdown",
   "id": "80412d66",
   "metadata": {},
   "source": [
    "## Another way of finding the most common job in India:"
   ]
  },
  {
   "cell_type": "code",
   "execution_count": 12,
   "id": "81684519",
   "metadata": {},
   "outputs": [
    {
     "data": {
      "text/plain": [
       "'Prof-specialty'"
      ]
     },
     "execution_count": 12,
     "metadata": {},
     "output_type": "execute_result"
    }
   ],
   "source": [
    "df[(df['native-country']=='India') & (df['salary']=='>50K')]['occupation'].value_counts().idxmax()"
   ]
  }
 ],
 "metadata": {
  "kernelspec": {
   "display_name": "Python 3 (ipykernel)",
   "language": "python",
   "name": "python3"
  },
  "language_info": {
   "codemirror_mode": {
    "name": "ipython",
    "version": 3
   },
   "file_extension": ".py",
   "mimetype": "text/x-python",
   "name": "python",
   "nbconvert_exporter": "python",
   "pygments_lexer": "ipython3",
   "version": "3.9.7"
  }
 },
 "nbformat": 4,
 "nbformat_minor": 5
}
